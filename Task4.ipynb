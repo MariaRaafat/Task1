{
 "cells": [
  {
   "cell_type": "code",
   "execution_count": 2,
   "metadata": {},
   "outputs": [
    {
     "name": "stdout",
     "output_type": "stream",
     "text": [
      "5\n"
     ]
    }
   ],
   "source": [
    "#1-Write a Python program to calculate the length of a string using 2 ways\n",
    "# First way\n",
    "x=input(\"Enter the string\")\n",
    "print(len(x))"
   ]
  },
  {
   "cell_type": "code",
   "execution_count": 6,
   "metadata": {},
   "outputs": [
    {
     "name": "stdout",
     "output_type": "stream",
     "text": [
      "5\n"
     ]
    }
   ],
   "source": [
    "#Second Way\n",
    "x=input(\"Enter the string :\")\n",
    "mytuple=tuple(x)\n",
    "print(len(mytuple))"
   ]
  },
  {
   "cell_type": "code",
   "execution_count": 11,
   "metadata": {},
   "outputs": [
    {
     "name": "stdout",
     "output_type": "stream",
     "text": [
      "Empty String\n",
      "\n"
     ]
    }
   ],
   "source": [
    "#2-Write a Python program to get a string made of the first 2 and last 2 characters of a given string.\n",
    "#  If the string length is less than 2, return the empty string instead (\"##Sample String : 'w3resource' Expected Result : 'w3ce'\n",
    "x=input(\"enter the string\")\n",
    "myTuple=tuple(x)\n",
    "StringOut=()\n",
    "l=len(myTuple)\n",
    "if len(myTuple)>=2 :\n",
    "    StringOut=(myTuple[0],myTuple[1],myTuple[l-2],myTuple[l-1])\n",
    "elif len(myTuple)==2:\n",
    "    StringOut=(myTuple[0],myTuple[1],myTuple[0],myTuple[1])\n",
    "else :\n",
    "    print(\"Empty String\")\n",
    "word=''.join(StringOut)\n",
    "print(word)"
   ]
  },
  {
   "cell_type": "code",
   "execution_count": 16,
   "metadata": {},
   "outputs": [
    {
     "name": "stdout",
     "output_type": "stream",
     "text": [
      "ingly\n"
     ]
    }
   ],
   "source": [
    "#3-Write a Python program to add 'ing' at the end of a given string (length should be at least 3). \n",
    "# If the given string already ends with 'ing', add 'ly' instead. If the string length of the given string is less than 3,\n",
    "#  leave it unchanged. (Sample String : 'abc' Expected Result : 'abcing')\n",
    "x=input(\"Enter the string:\")\n",
    "l=len(x)\n",
    "t=tuple(x)\n",
    "if l>=3:\n",
    "    if t[l-3]=='i' and t[l-2]=='n' and t[l-1]=='g':\n",
    "        newT=t+(\"ly\",)\n",
    "    else :\n",
    "        newT=t+(\"ing\",)\n",
    "    myTuple=''.join(newT)\n",
    "    print(myTuple)\n",
    "else:\n",
    "    print(x)"
   ]
  },
  {
   "cell_type": "code",
   "execution_count": 24,
   "metadata": {},
   "outputs": [
    {
     "name": "stdout",
     "output_type": "stream",
     "text": [
      "The longest word is sandra\n",
      "The length of the longest word is  6\n"
     ]
    }
   ],
   "source": [
    "#4-Write a Python function that takes a list of words and return the longest word and the length of the longest one\n",
    "#  (Longest word: Exercises Length of the longest word: 9)\n",
    "\n",
    "def LongestWord(wordArray):\n",
    "    longest=\"\"\n",
    "    for w in wordArray:\n",
    "        if len(w)>len(longest):\n",
    "            longest=w\n",
    "    print(\"The longest word is\",longest)\n",
    "    print(\"The length of the longest word is \",len(longest))\n",
    "\n",
    "\n",
    "arr=[]\n",
    "while True:\n",
    "    x=input(\"enter the word =>\")\n",
    "    arr.append(x)\n",
    "    ans=input(\"Do you want to enter another word\")\n",
    "    if ans==\"yes\" or ans==\"YES\":\n",
    "        continue\n",
    "    elif ans==\"no\" or ans==\"NO\":\n",
    "        break\n",
    "LongestWord(arr)"
   ]
  },
  {
   "cell_type": "code",
   "execution_count": 28,
   "metadata": {},
   "outputs": [
    {
     "name": "stdout",
     "output_type": "stream",
     "text": [
      "jarij\n"
     ]
    }
   ],
   "source": [
    "#*5-Write a Python program to change a given string to a newly string where the first and last chars have been exchanged using 2 ways\n",
    "#  (Sample String:abca Expected Result:ebce)\n",
    "#First way \n",
    "x=input(\"Enter the word\")\n",
    "a=input(\"Enter the letter to be exchanged with\")\n",
    "l=len(x)\n",
    "myWord=list(x)\n",
    "myWord[0]=a\n",
    "myWord[l-1]=a\n",
    "nWord=''.join(myWord)\n",
    "print(nWord)"
   ]
  },
  {
   "cell_type": "code",
   "execution_count": 36,
   "metadata": {},
   "outputs": [
    {
     "name": "stdout",
     "output_type": "stream",
     "text": [
      "jarij\n"
     ]
    }
   ],
   "source": [
    "#Second Way\n",
    "x=input(\"Enter the word\")\n",
    "a=input(\"Enter the letter to be exchanged with\")\n",
    "first,last=a,a\n",
    "middle=x[1:-1]\n",
    "nWord=first+middle+last\n",
    "print(nWord)"
   ]
  },
  {
   "cell_type": "code",
   "execution_count": 40,
   "metadata": {},
   "outputs": [
    {
     "name": "stdout",
     "output_type": "stream",
     "text": [
      "mra\n"
     ]
    }
   ],
   "source": [
    "#6-Write a Python program to remove characters that have odd index values in a given string (Sample String:abca Expected Result:ac)\n",
    "s=input(\"Enter the word =>\")\n",
    "myList=[]\n",
    "for i in range (len(s)):\n",
    "    if i%2==0:\n",
    "        myList.append(s[i])\n",
    "myString=''.join(myList)\n",
    "print(myString)"
   ]
  },
  {
   "cell_type": "code",
   "execution_count": 41,
   "metadata": {},
   "outputs": [
    {
     "name": "stdout",
     "output_type": "stream",
     "text": [
      "2\n"
     ]
    }
   ],
   "source": [
    "#7-Write a Python program to count the occurrences of each word in a given sentence \n",
    "# (Sample String:amr and ahmed are frindes but amr is the tallest Expected Result:2)\n",
    "sentence=input(\"Enter the sentence\")\n",
    "word=sentence.split()\n",
    "c=0\n",
    "for i in range(len(word)):\n",
    "    for j in range(len(word)):\n",
    "        if i==j:\n",
    "            continue\n",
    "        elif word[i]==word[j]:\n",
    "            c+=1\n",
    "\n",
    "print(c)"
   ]
  },
  {
   "cell_type": "code",
   "execution_count": 42,
   "metadata": {},
   "outputs": [
    {
     "name": "stdout",
     "output_type": "stream",
     "text": [
      "Upper Case=> MARIA RAAFAT\n",
      "Lower Case=> maria raafat\n"
     ]
    }
   ],
   "source": [
    "#8-Write a Python script that takes input from the user and displays that input back in upper and lower cases\n",
    "s=input(\"Enter the sentence\")\n",
    "print(\"Upper Case=>\",s.upper())\n",
    "print(\"Lower Case=>\",s.lower())"
   ]
  },
  {
   "cell_type": "code",
   "execution_count": 51,
   "metadata": {},
   "outputs": [
    {
     "name": "stdout",
     "output_type": "stream",
     "text": [
      "maria\n"
     ]
    }
   ],
   "source": [
    "#9-Write a Python function to reverse a string if its length is a multiple of 4\n",
    "s=input(\"Enter the word=>\")\n",
    "if len(s)%4==0:\n",
    "    print(s[::-1])\n",
    "else :\n",
    "    print(s)"
   ]
  },
  {
   "cell_type": "code",
   "execution_count": 54,
   "metadata": {},
   "outputs": [
    {
     "name": "stdout",
     "output_type": "stream",
     "text": [
      "maria raafat\n"
     ]
    }
   ],
   "source": [
    "#10- Write a Python program to remove a newline in Python\n",
    "x=input(\"enter the text\")\n",
    "newtxt=x.replace(\"/n\",\" \")\n",
    "print(newtxt)"
   ]
  },
  {
   "cell_type": "code",
   "execution_count": 55,
   "metadata": {},
   "outputs": [
    {
     "name": "stdout",
     "output_type": "stream",
     "text": [
      "yes starts\n"
     ]
    }
   ],
   "source": [
    "#11-Write a Python program to check whether a string starts with specified characters\n",
    "s=input(\"enter the string\")\n",
    "x=input(\"enter the specfied character\")\n",
    "if s[0]==x:\n",
    "    print(\"yes starts\")\n",
    "else :\n",
    "    print(\"No doesnt start\")"
   ]
  },
  {
   "cell_type": "code",
   "execution_count": null,
   "metadata": {},
   "outputs": [],
   "source": [
    "#11-Write a Python program to check whether a string starts with specified characters\n",
    "text = \"Python is fun\"\n",
    "# Check if it starts with \"Python\"\n",
    "if text.startswith(\"Python\"):\n",
    "    print(\"Yes, the string starts with 'Python'\")\n",
    "else:\n",
    "    print(\"No, it does not start with 'Python'\")\n"
   ]
  },
  {
   "cell_type": "code",
   "execution_count": 57,
   "metadata": {},
   "outputs": [
    {
     "name": "stdout",
     "output_type": "stream",
     "text": [
      "my apple my banana my cherry \n"
     ]
    }
   ],
   "source": [
    "#12- Write a Python program to add prefix text to all of the lines in a string\n",
    "txt=input(\"Enter the text\")\n",
    "pre=input(\"Enter the prefix\")\n",
    "lines=txt.split()\n",
    "newLines=[]\n",
    "for i in lines:\n",
    "    newLines.append(pre+i+\" \")\n",
    "newTxt=''.join(newLines)\n",
    "print(newTxt)"
   ]
  },
  {
   "cell_type": "code",
   "execution_count": 62,
   "metadata": {},
   "outputs": [
    {
     "name": "stdout",
     "output_type": "stream",
     "text": [
      "5.00\n"
     ]
    }
   ],
   "source": [
    "#13-Write a Python program to print the following numbers up to 2 decimal places\n",
    "#14-Write a Python program to print the following numbers up to 2 decimal places with a sign\n",
    "x=float(input(\"Enter the number\"))\n",
    "print(format(x,\".2f\"))"
   ]
  },
  {
   "cell_type": "code",
   "execution_count": 64,
   "metadata": {},
   "outputs": [
    {
     "name": "stdout",
     "output_type": "stream",
     "text": [
      "100,000\n"
     ]
    }
   ],
   "source": [
    "#15-Write a Python program to display a number with a comma separator\n",
    "x=int(input(\"Enter the number\"))\n",
    "print(format(x,\",\"))"
   ]
  },
  {
   "cell_type": "code",
   "execution_count": 65,
   "metadata": {},
   "outputs": [
    {
     "name": "stdout",
     "output_type": "stream",
     "text": [
      "airam\n"
     ]
    }
   ],
   "source": [
    "#16-Write a Python program to reverse a string using 2 ways\n",
    "s=input(\"Enter the string\")\n",
    "print(s[: :-1])"
   ]
  },
  {
   "cell_type": "code",
   "execution_count": 67,
   "metadata": {},
   "outputs": [
    {
     "name": "stdout",
     "output_type": "stream",
     "text": [
      "'m': 1\n",
      "'a': 2\n",
      "'r': 1\n",
      "'i': 1\n"
     ]
    }
   ],
   "source": [
    "#17-Write a Python program to count repeated characters in a string (hint:use dictionary)\n",
    "s=input(\"Enter the string\")\n",
    "charCount={}\n",
    "for i in s:\n",
    "    if i in charCount:\n",
    "        charCount[i]+=1\n",
    "    else :\n",
    "        charCount[i]=1\n",
    "for char, count in charCount.items():\n",
    "    print(f\"'{char}': {count}\")"
   ]
  },
  {
   "cell_type": "code",
   "execution_count": 4,
   "metadata": {},
   "outputs": [
    {
     "name": "stdout",
     "output_type": "stream",
     "text": [
      "m 1\n"
     ]
    }
   ],
   "source": [
    "#18-Write a Python program to find the first non-repeating character in a given string\n",
    "s=input(\"Enter the string\")\n",
    "charCount={}\n",
    "for i in s:\n",
    "    if i in charCount:\n",
    "        charCount[i]+=1\n",
    "    else :\n",
    "        charCount[i]=1\n",
    "for char in charCount:\n",
    "    if charCount[char]==1:\n",
    "        print(char,charCount[char])\n",
    "        break"
   ]
  },
  {
   "cell_type": "code",
   "execution_count": 6,
   "metadata": {},
   "outputs": [
    {
     "name": "stdout",
     "output_type": "stream",
     "text": [
      "maria\n"
     ]
    }
   ],
   "source": [
    "#*19-Write a Python program to remove spaces from a given string\n",
    "txt=input(\"Enter the string\")\n",
    "newTxt=txt.replace(\" \",\"\")\n",
    "print(newTxt)\n"
   ]
  },
  {
   "cell_type": "code",
   "execution_count": 7,
   "metadata": {},
   "outputs": [
    {
     "name": "stdout",
     "output_type": "stream",
     "text": [
      "Total number of non-empty substrings: 6\n"
     ]
    }
   ],
   "source": [
    "#20-Write a Python program to count the number of non-empty substrings of a given string\n",
    "def count_non_empty_substrings(text):\n",
    "    n = len(text)\n",
    "    return (n * (n + 1)) // 2\n",
    "\n",
    "text = input(\"Enter a string: \")\n",
    "count = count_non_empty_substrings(text)\n",
    "\n",
    "print(\"Total number of non-empty substrings:\", count)\n"
   ]
  },
  {
   "cell_type": "code",
   "execution_count": 1,
   "metadata": {},
   "outputs": [
    {
     "name": "stdout",
     "output_type": "stream",
     "text": [
      "[5, 2, 3, 4, 1]\n"
     ]
    }
   ],
   "source": [
    "#21-write a Python program to swap first and last element of any list.\n",
    "def swap_fun(l):\n",
    "    if len(l)>=2:\n",
    "        l[0],l[-1]=l[-1],l[0]\n",
    "    return l\n",
    "\n",
    "my_list=[1,2,3,4,5]\n",
    "new_List=swap_fun(my_list)\n",
    "print(new_List)\n"
   ]
  },
  {
   "cell_type": "code",
   "execution_count": 2,
   "metadata": {},
   "outputs": [
    {
     "name": "stdout",
     "output_type": "stream",
     "text": [
      "[1, 2, 4, 5, 6]\n"
     ]
    }
   ],
   "source": [
    "#22-Given a list in Python and provided the positions of the elements, write a program to swap the two elements in the list.\n",
    "#  (Input : List = [23, 65, 19, 90], pos1 = 1, pos2 = 3 Output : [19, 65, 23, 90])\n",
    "user_input=input(\"Enter the list\")\n",
    "my_list=user_input.split()\n",
    "\n",
    "my_list=[int(item) for item in my_list]\n",
    "print(my_list)"
   ]
  },
  {
   "cell_type": "code",
   "execution_count": 6,
   "metadata": {},
   "outputs": [
    {
     "name": "stdout",
     "output_type": "stream",
     "text": [
      "[19, 65, 23, 90]\n"
     ]
    }
   ],
   "source": [
    "#22-Given a list in Python and provided the positions of the elements, write a program to swap the two elements in the list.\n",
    "#  (Input : List = [23, 65, 19, 90], pos1 = 1, pos2 = 3 Output : [19, 65, 23, 90])\n",
    "my_list=eval(input(\"Enter the input in square brackets\"))\n",
    "pos1=int(input(\"Enter the first position=>\"))\n",
    "pos2=int(input(\"Enter the second position=>\"))\n",
    "my_list[pos1-1],my_list[pos2-1]=my_list[pos2-1],my_list[pos1-1]\n",
    "print(my_list)"
   ]
  },
  {
   "cell_type": "code",
   "execution_count": 7,
   "metadata": {},
   "outputs": [
    {
     "name": "stdout",
     "output_type": "stream",
     "text": [
      "5\n",
      "5\n",
      "5\n"
     ]
    }
   ],
   "source": [
    "#23- search for the all ways to know the length of the list\n",
    "my_list = [1, 2, 3, 4, 5]\n",
    "length = len(my_list)\n",
    "print(length)  # Output: 1\n",
    "\n",
    "count = 0\n",
    "for _ in my_list:\n",
    "    count += 1\n",
    "print(count) #output:2\n",
    "\n",
    "length = my_list.__len__()\n",
    "print(length)  # Output: 3\n",
    "\n"
   ]
  },
  {
   "cell_type": "code",
   "execution_count": 8,
   "metadata": {},
   "outputs": [
    {
     "name": "stdout",
     "output_type": "stream",
     "text": [
      "5\n"
     ]
    }
   ],
   "source": [
    "#**24-write a Python code to find the Maximum number of list of numbers.\n",
    "my_list = [1, 2, 3, 4, 5]\n",
    "max_val=max(my_list)\n",
    "print(max_val)"
   ]
  },
  {
   "cell_type": "code",
   "execution_count": 9,
   "metadata": {},
   "outputs": [
    {
     "name": "stdout",
     "output_type": "stream",
     "text": [
      "1\n"
     ]
    }
   ],
   "source": [
    "#25-write a Python code to find the Minimum number of list of numbers.\n",
    "my_list = [1, 2, 3, 4, 5]\n",
    "min_val=min(my_list)\n",
    "print(min_val)"
   ]
  },
  {
   "cell_type": "code",
   "execution_count": 18,
   "metadata": {},
   "outputs": [
    {
     "name": "stdout",
     "output_type": "stream",
     "text": [
      "Exist\n"
     ]
    }
   ],
   "source": [
    "#26-search for if an elem is existing in list\n",
    "user_list=input(\"enter the numbers in the list\")\n",
    "my_list=user_list.split()\n",
    "\n",
    "my_list = [int(item) for item in my_list]\n",
    "\n",
    "x=int(input(\"Enter the number you want to check on\"))\n",
    "found=0\n",
    "for i in my_list:\n",
    "    if x==i:\n",
    "        print(\"Exist\")\n",
    "        found=1\n",
    "if found==0:\n",
    "    print(\"Doesnt Exist\")"
   ]
  },
  {
   "cell_type": "code",
   "execution_count": 1,
   "metadata": {},
   "outputs": [
    {
     "name": "stdout",
     "output_type": "stream",
     "text": [
      "[]\n"
     ]
    }
   ],
   "source": [
    "#27- clear python list using different ways\n",
    "my_list=[1,2,3,4,5]\n",
    "my_list.clear()\n",
    "print(my_list)\n",
    "#or\n",
    "my_list = [1, 2, 3, 4, 5]\n",
    "my_list = []\n",
    "print(my_list)  \n",
    "#or\n",
    "my_list = [1, 2, 3, 4, 5]\n",
    "my_list *= 0\n",
    "print(my_list) "
   ]
  },
  {
   "cell_type": "code",
   "execution_count": 3,
   "metadata": {},
   "outputs": [
    {
     "name": "stdout",
     "output_type": "stream",
     "text": [
      "{'4', '2', '3', '1'}\n"
     ]
    }
   ],
   "source": [
    "#28-remove duplicated elements from a list\n",
    "my_list=[]\n",
    "for i in range(5):\n",
    "    my_list.append(input(\"Enter 5 numbers in the list:\"))\n",
    "\n",
    "my_set=set(my_list)\n",
    "print(my_set)\n"
   ]
  },
  {
   "cell_type": "code",
   "execution_count": 5,
   "metadata": {},
   "outputs": [
    {
     "name": "stdout",
     "output_type": "stream",
     "text": [
      "{'name': 'Gfg', 'id': '3'}\n"
     ]
    }
   ],
   "source": [
    "#29-Given list values and keys list, convert these values to key value pairs in form of list of dictionaries.\n",
    "#  (Input : test_list = [“Gfg”, 3, “is”, 8], key_list = [“name”, “id”] Output : [{‘name’: ‘Gfg’, ‘id’: 3}, {‘name’: ‘is’, ‘id’: 8}])\n",
    "\n",
    "test_list = []\n",
    "for i in range(4):\n",
    "    test_list.append(input(\"Enter value: \"))\n",
    "\n",
    "key_list = []\n",
    "for i in range(2):\n",
    "    key_list.append(input(\"Enter key: \"))\n",
    "\n",
    "my_dict = []\n",
    "for i in range(0, len(test_list), len(key_list)):\n",
    "    temp_dict = {}\n",
    "    for j in range(len(key_list)):\n",
    "        temp_dict[key_list[j]] = test_list[i + j]\n",
    "    my_dict.append(temp_dict)\n",
    "\n",
    "print(my_dict)"
   ]
  },
  {
   "cell_type": "code",
   "execution_count": 6,
   "metadata": {},
   "outputs": [
    {
     "name": "stdout",
     "output_type": "stream",
     "text": [
      "5\n"
     ]
    }
   ],
   "source": [
    "#30-write a python program to count unique values inside a list using different ways\n",
    "my_list=eval(input(\"Enter the input in square brackets\"))\n",
    "my_set=set(my_list)\n",
    "print(len(my_set))\n",
    "#or\n",
    "my_list=eval(input(\"Enter the input in square brackets\"))\n",
    "my_dict={}\n",
    "for item in my_list:\n",
    "    my_dict[item]=\"True\"\n",
    "\n",
    "print(len(my_dict))"
   ]
  },
  {
   "cell_type": "code",
   "execution_count": 11,
   "metadata": {},
   "outputs": [
    {
     "name": "stdout",
     "output_type": "stream",
     "text": [
      "[4, 3]\n"
     ]
    }
   ],
   "source": [
    "#31-write a python program Extract all elements with Frequency greater than K\n",
    "#  (Input : test_list = [4, 6, 4, 3, 3, 4, 3, 4, 3, 8], K = 3 Output : [4, 3]\n",
    "k=int((input(\"Enter the number if k\")))\n",
    "my_list=eval(input(\"Enter the list in sqaure brackets\"))\n",
    "my_dict={}\n",
    "for item in my_list:\n",
    "    if item in my_dict:\n",
    "        my_dict[item]+=1\n",
    "    else :\n",
    "        my_dict[item]=1\n",
    "result=[]\n",
    "for i in my_dict:\n",
    "    if my_dict[i]>k:\n",
    "        result.append(i)\n",
    "\n",
    "print(result)\n",
    "        "
   ]
  },
  {
   "cell_type": "code",
   "execution_count": null,
   "metadata": {},
   "outputs": [],
   "source": [
    "#32-write a python program to find the Strongest Neighbour (Input: 1 2 2 3 4 5 Output: 2 2 3 4 5)\n",
    "nums = list(map(int, input(\"Enter numbers separated by spaces: \").split()))\n",
    "strongest = []\n",
    "for i in range(len(nums)-1):\n",
    "    strongest.append(max(nums[i], nums[i+1]))\n",
    "\n",
    "# Output the result\n",
    "print(\"Strongest neighbours:\", ' '.join(map(str, strongest)))"
   ]
  },
  {
   "cell_type": "code",
   "execution_count": null,
   "metadata": {},
   "outputs": [],
   "source": [
    "#33-write a Python Program to print all Possible Combinations from the three Digits\n",
    "#  (Input: [1, 2, 3] Output: 1 2 3 ## 1 3 2 ## 2 1 3 ## 2 3 1 ## 3 1 2 ## 3 2 1)\n",
    "\n",
    "# Input three digits\n",
    "digits = list(map(int, input(\"Enter three digits separated by spaces: \").split()))\n",
    "\n",
    "# Manually generate permutations\n",
    "print(\"All possible combinations:\")\n",
    "for i in range(3):\n",
    "    for j in range(3):\n",
    "        for k in range(3):\n",
    "            if i != j and j != k and i != k:\n",
    "                print(digits[i], digits[j], digits[k], end=' ## ')"
   ]
  },
  {
   "cell_type": "code",
   "execution_count": null,
   "metadata": {},
   "outputs": [],
   "source": [
    "#34-write a Python program to find all the Combinations in the list with the given condition \n",
    "# (Input: test_list = [1,2,3] Output: [1], [1, 2], [1, 2, 3], [1, 3] [2], [2, 3], [3])\n",
    "def find_combinations(lst):\n",
    "    result = [[]]\n",
    "    for num in lst:\n",
    "        new_combinations = []\n",
    "        for combination in result:\n",
    "            new_combinations.append(combination + [num])\n",
    "        result += new_combinations\n",
    "    return [x for x in result if x]  # Exclude empty list\n",
    "\n",
    "# Input list\n",
    "test_list = [1, 2, 3]\n",
    "\n",
    "# Get all combinations\n",
    "all_combinations = find_combinations(test_list)\n",
    "\n",
    "# Print the result\n",
    "print(\"All combinations:\")\n",
    "for combo in all_combinations:\n",
    "    print(combo, end=\" \")"
   ]
  },
  {
   "cell_type": "code",
   "execution_count": null,
   "metadata": {},
   "outputs": [],
   "source": [
    "#35-write a Python program to get all unique combinations of two Lists\n",
    "#  (List_1 = [\"a\",\"b\"] List_2 = [1,2] Unique_combination = [[('a',1),('b',2)],[('a',2),('b',1)]] )\n",
    "# Input lists\n",
    "list_1 = [\"a\", \"b\"]\n",
    "list_2 = [1, 2]\n",
    "\n",
    "unique_combinations = []\n",
    "\n",
    "# Generate all possible mappings\n",
    "for i in range(len(list_2)):\n",
    "    # Create a combination where:\n",
    "    # - first element of list_1 pairs with i-th element of list_2\n",
    "    # - second element of list_1 pairs with remaining element of list_2\n",
    "    combo = [\n",
    "        (list_1[0], list_2[i]),\n",
    "        (list_1[1], list_2[1 - i])  # This gives the other element\n",
    "    ]\n",
    "    unique_combinations.append(combo)\n",
    "\n",
    "print(\"Unique combinations:\")\n",
    "for combo in unique_combinations:\n",
    "    print(combo)"
   ]
  },
  {
   "cell_type": "code",
   "execution_count": null,
   "metadata": {},
   "outputs": [],
   "source": [
    "#36-Remove all the occurrences of an element from a list in Python (Input : 1 1 2 3 4 5 1 2 1**Output : 2 3 4 5 2)\n",
    "# Input\n",
    "nums = list(map(int, input(\"Enter numbers separated by spaces: \").split()))\n",
    "element_to_remove = int(input(\"Enter element to remove: \"))\n",
    "\n",
    "# Remove all occurrences\n",
    "result = [num for num in nums if num != element_to_remove]\n",
    "\n",
    "# Output\n",
    "print(\"List after removal:\", ' '.join(map(str, result)))"
   ]
  },
  {
   "cell_type": "code",
   "execution_count": 12,
   "metadata": {},
   "outputs": [
    {
     "name": "stdout",
     "output_type": "stream",
     "text": [
      "The original list 1 is: ['Gfg', 'is', 'best']\n",
      "The original list 2 is: [0, 1, 2, 1, 0, 0, 0, 2, 1, 1, 2, 0]\n",
      "The lists after index elements replacements is: ['Gfg', 'is', 'best', 'is', 'Gfg', 'Gfg', 'Gfg', 'best', 'is', 'is', 'best', 'Gfg']\n"
     ]
    }
   ],
   "source": [
    "#37-write a python program to Replace index elements with elements in Other List (The original list 1 is \n",
    "# : [‘Gfg’, ‘is’, ‘best’] The original list 2 is : [0, 1, 2, 1, 0, 0, 0, 2, 1, 1, 2, 0] The lists after index elements replacements is \n",
    "# : [‘Gfg’, ‘is’, ‘best’, ‘is’, ‘Gfg’, ‘Gfg’, ‘Gfg’, ‘best’, ‘is’, ‘is’, ‘best’, ‘Gfg’])\n",
    "# Original lists\n",
    "list1 = ['Gfg', 'is', 'best']\n",
    "list2 = [0, 1, 2, 1, 0, 0, 0, 2, 1, 1, 2, 0]\n",
    "\n",
    "# Replace index elements\n",
    "result = [list1[index] for index in list2]\n",
    "\n",
    "# Print results\n",
    "print(\"The original list 1 is:\", list1)\n",
    "print(\"The original list 2 is:\", list2)\n",
    "print(\"The lists after index elements replacements is:\", result)"
   ]
  },
  {
   "cell_type": "code",
   "execution_count": 14,
   "metadata": {},
   "outputs": [
    {
     "name": "stdout",
     "output_type": "stream",
     "text": [
      "(4, 5, 5, 4)\n"
     ]
    }
   ],
   "source": [
    "#38- write python program to Retain records with N occurrences of \n",
    "# K(Input : test_list = [(4, 5, 5, 4), (5, 4, 3)], K = 5, N = 2 Output : [(4, 5, 5, 4)] \n",
    "# Input : test_list = [(4, 5, 5, 4), (5, 4, 3)], K = 5, N = 3 Output : [] )\n",
    "import ast\n",
    "\n",
    "x=input(\"Enter the list of tuples\")\n",
    "k=int(input(\"enter the 'k' value\"))\n",
    "n=int(input(\"Enter the ' N' value\"))\n",
    "my_list=ast.literal_eval(x)\n",
    "for tup in my_list:\n",
    "    c=0\n",
    "    for item in tup:\n",
    "        if item==k:\n",
    "            c+=1\n",
    "    if c>=n:\n",
    "        print(tup)\n"
   ]
  },
  {
   "cell_type": "code",
   "execution_count": 16,
   "metadata": {},
   "outputs": [
    {
     "name": "stdout",
     "output_type": "stream",
     "text": [
      "Sorted by column 0: [[1, 3, 3], [2, 1, 2], [3, 2, 1]]\n",
      "Sorted by column 1: [[2, 1, 2], [3, 2, 1], [1, 3, 3]]\n",
      "Sorted by column 2: [[3, 2, 1], [2, 1, 2], [1, 3, 3]]\n"
     ]
    }
   ],
   "source": [
    "#39-write a Python Program to Sort the list according to the column using \n",
    "# lambda array = [[1, 3, 3], [2, 1, 2], [3, 2, 1]] Output : Sorted array specific to column 0, [[1, 3, 3], [2, 1, 2], [3, 2, 1]]\n",
    "#  Sorted array specific to column 1, [[2, 1, 2], [3, 2, 1], [1, 3, 3]] Sorted array specific to column 2, [[3, 2, 1], [2, 1, 2], [1, 3, 3]]\n",
    "import ast\n",
    "\n",
    "def manual_sort_by_column(arr, column):\n",
    "    \"\"\"Sorts a list of tuples by specified column using bubble sort\"\"\"\n",
    "    n = len(arr)\n",
    "    # Create a copy to avoid modifying original\n",
    "    sorted_arr = [tup for tup in arr]\n",
    "    \n",
    "    for i in range(n):\n",
    "        for j in range(0, n-i-1):\n",
    "            if sorted_arr[j][column] > sorted_arr[j+1][column]:\n",
    "                # Swap the tuples\n",
    "                sorted_arr[j], sorted_arr[j+1] = sorted_arr[j+1], sorted_arr[j]\n",
    "    return sorted_arr\n",
    "\n",
    "# Get input from user\n",
    "s = input(\"Enter the list of tuples (e.g., [(1, 3, 3), (2, 1, 2), (3, 2, 1)]): \")\n",
    "my_list = ast.literal_eval(s)\n",
    "\n",
    "# Determine number of columns (assuming all tuples have same length)\n",
    "if len(my_list) > 0:\n",
    "    num_columns = len(my_list[0])\n",
    "else:\n",
    "    num_columns = 0\n",
    "\n",
    "# Sort by each column and display results\n",
    "for col in range(num_columns):\n",
    "    sorted_list = manual_sort_by_column(my_list, col)\n",
    "    print(f\"Sorted by column {col}: {sorted_list}\")\n"
   ]
  },
  {
   "cell_type": "code",
   "execution_count": null,
   "metadata": {},
   "outputs": [],
   "source": [
    "#40- write a program to Sort Python Dictionaries by Key or Value\n",
    "\n",
    "#Input:\n",
    "#{'ravi': 10, 'rajnish': 9, 'sanjeev': 15, 'yash': 2, 'suraj': 32}\n",
    "\n",
    "#Output:\n",
    "#{'rajnish': 9, 'ravi': 10, 'sanjeev': 15, 'suraj': 32, 'yash': 2}\n",
    "def sort_dict_manual(d, by='key'):\n",
    "    items = list(d.items())\n",
    "    n = len(items)\n",
    "    \n",
    "    # Bubble sort implementation\n",
    "    for i in range(n):\n",
    "        for j in range(0, n-i-1):\n",
    "            if by == 'key':\n",
    "                if items[j][0] > items[j+1][0]:\n",
    "                    items[j], items[j+1] = items[j+1], items[j]\n",
    "            elif by == 'value':\n",
    "                if items[j][1] > items[j+1][1]:\n",
    "                    items[j], items[j+1] = items[j+1], items[j]\n",
    "            else:\n",
    "                raise ValueError(\"Parameter 'by' must be either 'key' or 'value'\")\n",
    "    \n",
    "    return dict(items)\n",
    "\n",
    "# Usage\n",
    "my_dict = {'ravi': 10, 'rajnish': 9, 'sanjeev': 15, 'yash': 2, 'suraj': 32}\n",
    "print(\"Sorted by key (manual):\", sort_dict_manual(my_dict))\n",
    "print(\"Sorted by value (manual):\", sort_dict_manual(my_dict, by='value'))"
   ]
  },
  {
   "cell_type": "code",
   "execution_count": null,
   "metadata": {},
   "outputs": [],
   "source": [
    "#41-write python program to Remove keys with Values Greater than K ( Including mixed values ) \n",
    "# nput : test_dict = {‘Gfg’ : 3, ‘is’ : 7, ‘best’ : 10, ‘for’ : 6, ‘geeks’ : ‘CS’}, K = 7 Output : {‘Gfg’ : 3, ‘for’ : 6, ‘geeks’ : ‘CS’}\n",
    "def remove_keys_greater_than_k(test_dict, K):\n",
    "    \"\"\"Removes keys with numeric values greater than K, keeps non-numeric values\"\"\"\n",
    "    result = {}\n",
    "    for key, value in test_dict.items():\n",
    "        # Check if value is numeric (int or float) and greater than K\n",
    "        if isinstance(value, (int, float)):\n",
    "            if value <= K:\n",
    "                result[key] = value\n",
    "        else:\n",
    "            # Keep non-numeric values\n",
    "            result[key] = value\n",
    "    return result\n",
    "\n",
    "# Input dictionary\n",
    "test_dict = {'Gfg': 3, 'is': 7, 'best': 10, 'for': 6, 'geeks': 'CS'}\n",
    "K = 7\n",
    "\n",
    "# Remove keys with values > K\n",
    "filtered_dict = remove_keys_greater_than_k(test_dict, K)\n",
    "\n",
    "# Output the result\n",
    "print(\"Original dictionary:\", test_dict)\n",
    "print(\"Filtered dictionary:\", filtered_dict)"
   ]
  },
  {
   "cell_type": "code",
   "execution_count": null,
   "metadata": {},
   "outputs": [],
   "source": [
    "#42-Write a Python program to concatenate the following dictionaries to create a new one\n",
    "#Sample Dictionary : dic1={1:10, 2:20} dic2={3:30, 4:40} dic3={5:50,6:60} \n",
    "# Expected Result : {1: 10, 2: 20, 3: 30, 4: 40, 5: 50, 6: 60}\n",
    "dic1 = {1:10, 2:20}\n",
    "dic2 = {3:30, 4:40} \n",
    "dic3 = {5:50, 6:60}\n",
    "\n",
    "result = {}\n",
    "result.update(dic1)\n",
    "result.update(dic2)\n",
    "result.update(dic3)\n",
    "\n",
    "print(\"Concatenated dictionary:\", result)"
   ]
  },
  {
   "cell_type": "code",
   "execution_count": null,
   "metadata": {},
   "outputs": [],
   "source": [
    "#43-Write a Python program to iterate over dictionaries using for loops\n",
    "# Sample dictionary\n",
    "student_grades = {\n",
    "    'Alice': 92,\n",
    "    'Bob': 85,\n",
    "    'Charlie': 78,\n",
    "    'Diana': 95,\n",
    "    'Ethan': 88\n",
    "}\n",
    "\n",
    "print(\"Original dictionary:\", student_grades)\n",
    "\n",
    "for key in student_grades:\n",
    "    print(f\"Key: {key}\")"
   ]
  },
  {
   "cell_type": "code",
   "execution_count": null,
   "metadata": {},
   "outputs": [],
   "source": [
    "#44- Write a Python script to merge two Python dictionaries\n",
    "dict1 = {'a': 1, 'b': 2}\n",
    "dict2 = {'c': 3, 'd': 4}\n",
    "\n",
    "dict1.update(dict2)\n",
    "print(\"Merged dictionary (using update()):\", dict1)"
   ]
  },
  {
   "cell_type": "code",
   "execution_count": null,
   "metadata": {},
   "outputs": [],
   "source": [
    "#45-Write a Python program to get the maximum and minimum values of a dictionary values\n",
    "my_dict = {'a': 10, 'b': 5, 'c': 20, 'd': 15, 'e': 30}\n",
    "\n",
    "max_value = max(my_dict.values())\n",
    "min_value = min(my_dict.values())\n",
    "\n",
    "print(f\"Maximum value: {max_value}\")\n",
    "print(f\"Minimum value: {min_value}\")"
   ]
  },
  {
   "cell_type": "code",
   "execution_count": null,
   "metadata": {},
   "outputs": [],
   "source": [
    "#46- Write a Python program to drop empty items from a given dictionary. \n",
    "# Original Dictionary: {'c1': 'Red', 'c2': 'Green', 'c3': None} New Dictionary after dropping empty items: {'c1': 'Red', 'c2': 'Green'}\n",
    "original_dict = {'c1': 'Red', 'c2': 'Green', 'c3': None}\n",
    "new_dict = {}\n",
    "\n",
    "for key, value in original_dict.items():\n",
    "    if value is not None:  # Can add other empty checks here\n",
    "        new_dict[key] = value\n",
    "\n",
    "print(\"Original Dictionary:\", original_dict)\n",
    "print(\"New Dictionary after dropping empty items:\", new_dict)"
   ]
  },
  {
   "cell_type": "code",
   "execution_count": null,
   "metadata": {},
   "outputs": [],
   "source": [
    "#**47-Write a Python program to create a tuple of numbers and print one item\n",
    "# Create a tuple of numbers\n",
    "numbers = (10, 20, 30, 40, 50)\n",
    "\n",
    "# Print the entire tuple\n",
    "print(\"Complete tuple:\", numbers)\n",
    "\n",
    "# Print one item from the tuple (using index)\n",
    "print(\"First item:\", numbers[0])\n",
    "print(\"Third item:\", numbers[2])\n",
    "print(\"Last item:\", numbers[-1])"
   ]
  },
  {
   "cell_type": "code",
   "execution_count": null,
   "metadata": {},
   "outputs": [],
   "source": [
    "#48-Write a Python program to unpack a tuple into several variables\n",
    "# Create a tuple\n",
    "person = ('John', 'Doe', 30, 'john.doe@example.com')\n",
    "\n",
    "# Unpack the tuple into variables\n",
    "first_name, last_name, age, email = person\n",
    "\n",
    "# Print the variables\n",
    "print(\"First Name:\", first_name)\n",
    "print(\"Last Name:\", last_name)\n",
    "print(\"Age:\", age)\n",
    "print(\"Email:\", email)"
   ]
  },
  {
   "cell_type": "code",
   "execution_count": null,
   "metadata": {},
   "outputs": [],
   "source": [
    "#49-Write a Python program to add an item to a tuple\n",
    "# Original tuple\n",
    "my_tuple = (1, 2, 3)\n",
    "\n",
    "# Add a new item (4) to the tuple\n",
    "new_tuple = my_tuple + (4,)\n",
    "\n",
    "print(\"Original tuple:\", my_tuple)\n",
    "print(\"New tuple:\", new_tuple)"
   ]
  },
  {
   "cell_type": "code",
   "execution_count": null,
   "metadata": {},
   "outputs": [],
   "source": [
    "#50-Write a Python program to convert a tuple to a string\n",
    "# Tuple of strings\n",
    "tuple_of_strings = ('Hello', 'World', 'Python')\n",
    "\n",
    "# Convert to string with space separator\n",
    "result = ' '.join(tuple_of_strings)\n",
    "print(result)  # Output: Hello World Python"
   ]
  },
  {
   "cell_type": "code",
   "execution_count": 17,
   "metadata": {},
   "outputs": [
    {
     "name": "stdout",
     "output_type": "stream",
     "text": [
      "(1, 3, 3)\n"
     ]
    }
   ],
   "source": [
    "#51-Write a Python program to convert a list to a tuple\n",
    "my_list=eval(input(\"Enter the list\"))\n",
    "my_tuple=tuple(my_list)\n",
    "print(my_tuple)"
   ]
  },
  {
   "cell_type": "code",
   "execution_count": 20,
   "metadata": {},
   "outputs": [
    {
     "name": "stdout",
     "output_type": "stream",
     "text": [
      "3\n",
      "3\n",
      "1\n"
     ]
    }
   ],
   "source": [
    "#52-Write a Python program to reverse a tuple\n",
    "my_tuple=eval(input(\"Enter the tuple\"))\n",
    "s=len(my_tuple)\n",
    "for i in range(s-1,-1,-1):\n",
    "    print(my_tuple[i])\n"
   ]
  },
  {
   "cell_type": "code",
   "execution_count": null,
   "metadata": {},
   "outputs": [],
   "source": [
    "#53-Write a Python program to replace the last value of tuples in a list. Sample list:\n",
    "#  [(10, 20, 40), (40, 50, 60), (70, 80, 90)] Expected Output: [(10, 20, 100), (40, 50, 100), (70, 80, 100)]\n",
    "\n",
    "tuple_list = [(10, 20, 40), (40, 50, 60), (70, 80, 90)]\n",
    "new_value = 100\n",
    "\n",
    "new_list = []\n",
    "for t in tuple_list:\n",
    "    new_tuple = t[:-1] + (new_value,)\n",
    "    new_list.append(new_tuple)\n",
    "print( new_list)\n"
   ]
  },
  {
   "cell_type": "code",
   "execution_count": null,
   "metadata": {},
   "outputs": [],
   "source": [
    "#54-Write a Python program to convert a given string list to a tuple Original string: python 3.0 \n",
    "# <class 'str'> Convert the said string to a tuple: ('p', 'y', 't', 'h', 'o', 'n', '3', '.', '0')\n",
    "# Original string\n",
    "original_string = \"python 3.0\"\n",
    "print(f\"Original string: {original_string}\")\n",
    "print(f\"Type: {type(original_string)}\")\n",
    "\n",
    "# Convert string to tuple of characters\n",
    "char_tuple = tuple(original_string)\n",
    "\n",
    "print(\"\\nConverted tuple:\", char_tuple)\n",
    "print(f\"Type: {type(char_tuple)}\")"
   ]
  },
  {
   "cell_type": "code",
   "execution_count": null,
   "metadata": {},
   "outputs": [],
   "source": [
    "#55-Write a Python program to calculate the average value of the numbers in a given tuple of tuples\n",
    "def calculate_average(tuple_of_tuples):\n",
    "    total = 0\n",
    "    count = 0\n",
    "    for inner_tuple in tuple_of_tuples:\n",
    "        for num in inner_tuple:\n",
    "            total += num\n",
    "            count += 1\n",
    "    return total / count if count != 0 else 0\n",
    "\n",
    "# Example tuple\n",
    "numbers = ((10, 20, 30), (40, 50, 60), (70, 80, 90))\n",
    "\n",
    "# Calculate and print average\n",
    "average = calculate_average(numbers)\n",
    "print(f\"The average is: {average:.2f}\")  # Output: The average is: 50.00"
   ]
  },
  {
   "cell_type": "code",
   "execution_count": null,
   "metadata": {},
   "outputs": [],
   "source": [
    "#56-Write a Python program to add member(s) to a set.\n",
    "my_set = {1, 2, 3}\n",
    "print(\"Original set:\", my_set)\n",
    "\n",
    "# Add a single element\n",
    "my_set.add(4)\n",
    "print(\"After adding 4:\", my_set)"
   ]
  },
  {
   "cell_type": "code",
   "execution_count": null,
   "metadata": {},
   "outputs": [],
   "source": [
    "#57-Write a Python program to remove an item from a set if it is present in the set."
   ]
  },
  {
   "cell_type": "code",
   "execution_count": null,
   "metadata": {},
   "outputs": [],
   "source": [
    "#58-Write a Python program to create an intersection,union,difference and symmetric difference of sets"
   ]
  },
  {
   "cell_type": "code",
   "execution_count": null,
   "metadata": {},
   "outputs": [],
   "source": [
    "#59-Write a Python program to find the maximum and minimum values in a set"
   ]
  },
  {
   "cell_type": "code",
   "execution_count": null,
   "metadata": {},
   "outputs": [],
   "source": [
    "#60- Write a Python program that finds all pairs of elements in a list whose sum is equal to a given value."
   ]
  }
 ],
 "metadata": {
  "kernelspec": {
   "display_name": "Python 3",
   "language": "python",
   "name": "python3"
  },
  "language_info": {
   "codemirror_mode": {
    "name": "ipython",
    "version": 3
   },
   "file_extension": ".py",
   "mimetype": "text/x-python",
   "name": "python",
   "nbconvert_exporter": "python",
   "pygments_lexer": "ipython3",
   "version": "3.11.9"
  }
 },
 "nbformat": 4,
 "nbformat_minor": 2
}
